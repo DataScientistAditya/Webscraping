{
 "cells": [
  {
   "cell_type": "code",
   "execution_count": 1,
   "id": "b9692c3c",
   "metadata": {
    "scrolled": true
   },
   "outputs": [
    {
     "name": "stdout",
     "output_type": "stream",
     "text": [
      "Requirement already satisfied: autoscraper in c:\\users\\aditya\\anaconda3\\lib\\site-packages (1.1.12)\n",
      "Requirement already satisfied: bs4 in c:\\users\\aditya\\anaconda3\\lib\\site-packages (from autoscraper) (0.0.1)\n",
      "Requirement already satisfied: lxml in c:\\users\\aditya\\anaconda3\\lib\\site-packages (from autoscraper) (4.6.3)\n",
      "Requirement already satisfied: requests in c:\\users\\aditya\\anaconda3\\lib\\site-packages (from autoscraper) (2.25.1)\n",
      "Requirement already satisfied: beautifulsoup4 in c:\\users\\aditya\\anaconda3\\lib\\site-packages (from bs4->autoscraper) (4.9.3)\n",
      "Requirement already satisfied: soupsieve>1.2 in c:\\users\\aditya\\anaconda3\\lib\\site-packages (from beautifulsoup4->bs4->autoscraper) (2.2.1)\n",
      "Requirement already satisfied: chardet<5,>=3.0.2 in c:\\users\\aditya\\anaconda3\\lib\\site-packages (from requests->autoscraper) (4.0.0)\n",
      "Requirement already satisfied: idna<3,>=2.5 in c:\\users\\aditya\\anaconda3\\lib\\site-packages (from requests->autoscraper) (2.10)\n",
      "Requirement already satisfied: urllib3<1.27,>=1.21.1 in c:\\users\\aditya\\anaconda3\\lib\\site-packages (from requests->autoscraper) (1.26.4)\n",
      "Requirement already satisfied: certifi>=2017.4.17 in c:\\users\\aditya\\anaconda3\\lib\\site-packages (from requests->autoscraper) (2020.12.5)\n",
      "Note: you may need to restart the kernel to use updated packages.\n"
     ]
    }
   ],
   "source": [
    "pip install autoscraper"
   ]
  },
  {
   "cell_type": "code",
   "execution_count": 2,
   "id": "d4e059c0",
   "metadata": {},
   "outputs": [],
   "source": [
    "from autoscraper import AutoScraper"
   ]
  },
  {
   "cell_type": "code",
   "execution_count": 3,
   "id": "eb2cd304",
   "metadata": {},
   "outputs": [],
   "source": [
    "Flipkart_URL = \"https://www.flipkart.com/search?q=iphones&otracker=search&otracker1=search&marketplace=FLIPKART&as-show=on&as=off\"\n",
    "Wanted_List = [\"https://rukminim1.flixcart.com/image/312/312/kgiaykw0/mobile/y/n/y/apple-iphone-11-mhda3hn-a-original-imafwqepdb3fxtug.jpeg?q=70\",\"₹31,999\",\"APPLE iPhone SE (White, 64 GB)\",\"4.6\"]"
   ]
  },
  {
   "cell_type": "code",
   "execution_count": 4,
   "id": "d5a29b31",
   "metadata": {},
   "outputs": [
    {
     "name": "stdout",
     "output_type": "stream",
     "text": [
      "['https://rukminim1.flixcart.com/image/312/312/kgiaykw0/mobile/y/n/y/apple-iphone-11-mhda3hn-a-original-imafwqepdb3fxtug.jpeg?q=70', 'https://rukminim1.flixcart.com/image/312/312/jnj7iq80/mobile/y/q/d/apple-iphone-xr-mry52hn-a-original-imafa6zkfgwpnsgz.jpeg?q=70', 'https://rukminim1.flixcart.com/image/312/312/jnj7iq80/mobile/u/b/g/apple-iphone-xr-mryj2hn-a-original-imafa6zkm7qhv2zd.jpeg?q=70', 'https://rukminim1.flixcart.com/image/312/312/kgiaykw0/mobile/c/u/7/apple-iphone-11-mhdd3hn-a-original-imafwqephghanvyr.jpeg?q=70', 'https://rukminim1.flixcart.com/image/312/312/k9loccw0/mobile/6/b/z/apple-iphone-se-mxd12hn-a-original-imafrcqfsuzwa3dz.jpeg?q=70', 'https://rukminim1.flixcart.com/image/312/312/k9loccw0/mobile/p/z/q/apple-iphone-se-mxd02hn-a-original-imafrcpjfehbbqgb.jpeg?q=70', 'https://rukminim1.flixcart.com/image/312/312/k9loccw0/mobile/6/8/g/apple-iphone-se-mxvv2hn-a-original-imafrcqmfxhcrpsb.jpeg?q=70', 'https://rukminim1.flixcart.com/image/312/312/kg8avm80/mobile/r/h/z/apple-iphone-12-dummyapplefsn-original-imafwg8dqgncgbcb.jpeg?q=70', 'https://rukminim1.flixcart.com/image/312/312/kg8avm80/mobile/y/7/n/apple-iphone-12-dummyapplefsn-original-imafwg8dqq7z8cgh.jpeg?q=70', 'https://rukminim1.flixcart.com/image/312/312/kg8avm80/mobile/j/f/9/apple-iphone-12-dummyapplefsn-original-imafwg8dhe5aeyhk.jpeg?q=70', 'https://rukminim1.flixcart.com/image/312/312/k0lbdzk0pkrrdj/mobile/s/p/d/apple-iphone-xr-mry42hn-a-original-imafbhyxurw8y7zg.jpeg?q=70', 'https://rukminim1.flixcart.com/image/312/312/k13w4280/mobile/h/q/h/apple-iphone-7-plus-mn4w2hn-a-original-imafkqfhzxgedrcu.jpeg?q=70', 'https://rukminim1.flixcart.com/image/312/312/jnj7iq80/mobile/3/f/a/apple-iphone-xr-mry62hn-a-original-imafa6zkhyceh8dg.jpeg?q=70', 'https://rukminim1.flixcart.com/image/312/312/jnj7iq80/mobile/r/k/h/apple-iphone-xr-mrya2hn-a-original-imafa6zkgrdrpuby.jpeg?q=70', 'https://rukminim1.flixcart.com/image/312/312/kg8avm80/mobile/p/f/w/apple-iphone-12-dummyapplefsn-original-imafwg8dqjuq8sug.jpeg?q=70', 'https://rukminim1.flixcart.com/image/312/312/kg8avm80/mobile/u/c/d/apple-iphone-12-pro-dummyapplefsn-original-imafwgbrzhcushwk.jpeg?q=70', 'https://rukminim1.flixcart.com/image/312/312/kg8avm80/mobile/n/p/d/apple-iphone-12-mini-dummyapplefsn-original-imafwgbfwyzztfnh.jpeg?q=70', 'https://rukminim1.flixcart.com/image/312/312/kgiaykw0/mobile/9/q/m/apple-iphone-11-mhdg3hn-a-original-imafwqepdx2mfnuz.jpeg?q=70', 'https://rukminim1.flixcart.com/image/312/312/kg8avm80/mobile/r/2/r/apple-iphone-12-mini-dummyapplefsn-original-imafwgbfcswp9fh5.jpeg?q=70', '₹49,999', '₹42,999', '₹31,999', '₹34,999', '₹82,900', '₹77,900', '₹39,999', '₹36,999', '₹1,25,900', '₹72,900', '₹51,999', 'APPLE iPhone 11 (Black, 64 GB)', 'Apple iPhone XR (White, 128 GB) (Includes EarPods, Power Adapter)', 'Apple iPhone XR (Black, 128 GB) (Includes EarPods, Power Adapter)', 'APPLE iPhone 11 (Red, 64 GB)', 'APPLE iPhone SE (White, 64 GB)', 'APPLE iPhone SE (Black, 64 GB)', 'APPLE iPhone SE (Black, 128 GB)', 'APPLE iPhone SE (Red, 64 GB)', 'APPLE iPhone SE (White, 128 GB)', 'APPLE iPhone SE (Red, 128 GB)', 'APPLE iPhone 12 (Black, 128 GB)', 'APPLE iPhone 12 (Blue, 64 GB)', 'Apple iPhone XR (White, 64 GB) (Includes EarPods, Power Adapter)', 'APPLE iPhone 12 (White, 128 GB)', 'APPLE iPhone XR (Black, 64 GB)', 'APPLE iPhone 7 Plus (Black, 32 GB)', 'Apple iPhone XR ((PRODUCT)RED, 64 GB) (Includes EarPods, Power Adapter)', 'Apple iPhone XR (Blue, 64 GB) (Includes EarPods, Power Adapter)', 'Apple iPhone XR ((PRODUCT)RED, 128 GB) (Includes EarPods, Power Adapter)', 'APPLE iPhone 12 (Green, 128 GB)', 'APPLE iPhone 12 Pro (Pacific Blue, 256 GB)', 'APPLE iPhone 12 Mini (Black, 128 GB)', 'APPLE iPhone 11 (Green, 64 GB)', 'APPLE iPhone 12 Mini (Blue, 128 GB)', '4.5', '4.6']\n"
     ]
    }
   ],
   "source": [
    "Scraper = AutoScraper()\n",
    "Result =Scraper.build(Flipkart_URL,Wanted_List)\n",
    "print(Result)"
   ]
  },
  {
   "cell_type": "code",
   "execution_count": 5,
   "id": "fefa5cc5",
   "metadata": {
    "scrolled": true
   },
   "outputs": [
    {
     "name": "stdout",
     "output_type": "stream",
     "text": [
      "{'rule_1b49': ['https://rukminim1.flixcart.com/image/312/312/kgiaykw0/mobile/y/n/y/apple-iphone-11-mhda3hn-a-original-imafwqepdb3fxtug.jpeg?q=70', 'https://rukminim1.flixcart.com/image/312/312/jnj7iq80/mobile/y/q/d/apple-iphone-xr-mry52hn-a-original-imafa6zkfgwpnsgz.jpeg?q=70', 'https://rukminim1.flixcart.com/image/312/312/jnj7iq80/mobile/u/b/g/apple-iphone-xr-mryj2hn-a-original-imafa6zkm7qhv2zd.jpeg?q=70', 'https://rukminim1.flixcart.com/image/312/312/k9loccw0/mobile/6/b/z/apple-iphone-se-mxd12hn-a-original-imafrcqfsuzwa3dz.jpeg?q=70', 'https://rukminim1.flixcart.com/image/312/312/kgiaykw0/mobile/c/u/7/apple-iphone-11-mhdd3hn-a-original-imafwqephghanvyr.jpeg?q=70', 'https://rukminim1.flixcart.com/image/312/312/k9loccw0/mobile/p/z/q/apple-iphone-se-mxd02hn-a-original-imafrcpjfehbbqgb.jpeg?q=70', 'https://rukminim1.flixcart.com/image/312/312/k9loccw0/mobile/p/z/q/apple-iphone-se-mxd02hn-a-original-imafrcpjfehbbqgb.jpeg?q=70', 'https://rukminim1.flixcart.com/image/312/312/k9loccw0/mobile/6/8/g/apple-iphone-se-mxvv2hn-a-original-imafrcqmfxhcrpsb.jpeg?q=70', 'https://rukminim1.flixcart.com/image/312/312/k9loccw0/mobile/6/b/z/apple-iphone-se-mxd12hn-a-original-imafrcqfsuzwa3dz.jpeg?q=70', 'https://rukminim1.flixcart.com/image/312/312/k9loccw0/mobile/6/8/g/apple-iphone-se-mxvv2hn-a-original-imafrcqmfxhcrpsb.jpeg?q=70', 'https://rukminim1.flixcart.com/image/312/312/kg8avm80/mobile/r/h/z/apple-iphone-12-dummyapplefsn-original-imafwg8dqgncgbcb.jpeg?q=70', 'https://rukminim1.flixcart.com/image/312/312/kg8avm80/mobile/y/7/n/apple-iphone-12-dummyapplefsn-original-imafwg8dqq7z8cgh.jpeg?q=70', 'https://rukminim1.flixcart.com/image/312/312/jnj7iq80/mobile/y/q/d/apple-iphone-xr-mry52hn-a-original-imafa6zkfgwpnsgz.jpeg?q=70', 'https://rukminim1.flixcart.com/image/312/312/kg8avm80/mobile/j/f/9/apple-iphone-12-dummyapplefsn-original-imafwg8dhe5aeyhk.jpeg?q=70', 'https://rukminim1.flixcart.com/image/312/312/k0lbdzk0pkrrdj/mobile/s/p/d/apple-iphone-xr-mry42hn-a-original-imafbhyxurw8y7zg.jpeg?q=70', 'https://rukminim1.flixcart.com/image/312/312/jnj7iq80/mobile/u/b/g/apple-iphone-xr-mryj2hn-a-original-imafa6zkm7qhv2zd.jpeg?q=70', 'https://rukminim1.flixcart.com/image/312/312/jnj7iq80/mobile/3/f/a/apple-iphone-xr-mry62hn-a-original-imafa6zkhyceh8dg.jpeg?q=70', 'https://rukminim1.flixcart.com/image/312/312/jnj7iq80/mobile/r/k/h/apple-iphone-xr-mrya2hn-a-original-imafa6zkgrdrpuby.jpeg?q=70', 'https://rukminim1.flixcart.com/image/312/312/kg8avm80/mobile/y/7/n/apple-iphone-12-dummyapplefsn-original-imafwg8dqq7z8cgh.jpeg?q=70', 'https://rukminim1.flixcart.com/image/312/312/jnj7iq80/mobile/3/f/a/apple-iphone-xr-mry62hn-a-original-imafa6zkhyceh8dg.jpeg?q=70', 'https://rukminim1.flixcart.com/image/312/312/kg8avm80/mobile/p/f/w/apple-iphone-12-dummyapplefsn-original-imafwg8dqjuq8sug.jpeg?q=70', 'https://rukminim1.flixcart.com/image/312/312/kg8avm80/mobile/u/c/d/apple-iphone-12-pro-dummyapplefsn-original-imafwgbrzhcushwk.jpeg?q=70', 'https://rukminim1.flixcart.com/image/312/312/kg8avm80/mobile/n/p/d/apple-iphone-12-mini-dummyapplefsn-original-imafwgbfwyzztfnh.jpeg?q=70', 'https://rukminim1.flixcart.com/image/312/312/k2jbyq80pkrrdj/mobile-refurbished/z/a/f/iphone-11-pro-max-256-u-mwhm2hn-a-apple-0-original-imafkg2ftc5cze5n.jpeg?q=70'], 'rule_2qll': ['₹49,999', '₹42,999', '₹42,999', '₹31,999', '₹49,999', '₹31,999', '₹34,999', '₹31,999', '₹34,999', '₹34,999', '₹82,900', '₹77,900', '₹39,999', '₹82,900', '₹39,999', '₹39,999', '₹39,999', '₹39,999', '₹82,900', '₹42,999', '₹82,900', '₹1,25,900', '₹72,900', '₹74,999'], 'rule_7rrq': ['₹49,999', '₹42,999', '₹42,999', '₹31,999', '₹49,999', '₹31,999', '₹34,999', '₹31,999', '₹34,999', '₹34,999', '₹82,900', '₹77,900', '₹39,999', '₹82,900', '₹39,999', '₹39,999', '₹39,999', '₹39,999', '₹82,900', '₹42,999', '₹82,900', '₹1,25,900', '₹72,900', '₹74,999'], 'rule_9wmu': ['₹49,999', '₹42,999', '₹42,999', '₹31,999', '₹49,999', '₹31,999', '₹34,999', '₹31,999', '₹34,999', '₹34,999', '₹82,900', '₹77,900', '₹39,999', '₹82,900', '₹39,999', '₹39,999', '₹39,999', '₹39,999', '₹82,900', '₹42,999', '₹82,900', '₹1,25,900', '₹72,900', '₹74,999'], 'rule_mj56': ['APPLE iPhone 11 (Black, 64 GB)', 'Apple iPhone XR (White, 128 GB) (Includes EarPods, Power Adapter)', 'Apple iPhone XR (Black, 128 GB) (Includes EarPods, Power Adapter)', 'APPLE iPhone SE (White, 64 GB)', 'APPLE iPhone 11 (Red, 64 GB)', 'APPLE iPhone SE (Black, 64 GB)', 'APPLE iPhone SE (Black, 128 GB)', 'APPLE iPhone SE (Red, 64 GB)', 'APPLE iPhone SE (White, 128 GB)', 'APPLE iPhone SE (Red, 128 GB)', 'APPLE iPhone 12 (Black, 128 GB)', 'APPLE iPhone 12 (Blue, 64 GB)', 'Apple iPhone XR (White, 64 GB) (Includes EarPods, Power Adapter)', 'APPLE iPhone 12 (White, 128 GB)', 'APPLE iPhone XR (Black, 64 GB)', 'Apple iPhone XR (Black, 64 GB) (Includes EarPods, Power Adapter)', 'Apple iPhone XR ((PRODUCT)RED, 64 GB) (Includes EarPods, Power Adapter)', 'Apple iPhone XR (Blue, 64 GB) (Includes EarPods, Power Adapter)', 'APPLE iPhone 12 (Blue, 128 GB)', 'Apple iPhone XR ((PRODUCT)RED, 128 GB) (Includes EarPods, Power Adapter)', 'APPLE iPhone 12 (Green, 128 GB)', 'APPLE iPhone 12 Pro (Pacific Blue, 256 GB)', 'APPLE iPhone 12 Mini (Black, 128 GB)', 'APPLE iPhone 11 Pro (Midnight Green, 64 GB)'], 'rule_qsyi': ['APPLE iPhone 11 (Black, 64 GB)', 'Apple iPhone XR (White, 128 GB) (Includes EarPods, Power Adapter)', 'Apple iPhone XR (Black, 128 GB) (Includes EarPods, Power Adapter)', 'APPLE iPhone SE (White, 64 GB)', 'APPLE iPhone 11 (Red, 64 GB)', 'APPLE iPhone SE (Black, 64 GB)', 'APPLE iPhone SE (Black, 128 GB)', 'APPLE iPhone SE (Red, 64 GB)', 'APPLE iPhone SE (White, 128 GB)', 'APPLE iPhone SE (Red, 128 GB)', 'APPLE iPhone 12 (Black, 128 GB)', 'APPLE iPhone 12 (Blue, 64 GB)', 'Apple iPhone XR (White, 64 GB) (Includes EarPods, Power Adapter)', 'APPLE iPhone 12 (White, 128 GB)', 'APPLE iPhone XR (Black, 64 GB)', 'Apple iPhone XR (Black, 64 GB) (Includes EarPods, Power Adapter)', 'Apple iPhone XR ((PRODUCT)RED, 64 GB) (Includes EarPods, Power Adapter)', 'Apple iPhone XR (Blue, 64 GB) (Includes EarPods, Power Adapter)', 'APPLE iPhone 12 (Blue, 128 GB)', 'Apple iPhone XR ((PRODUCT)RED, 128 GB) (Includes EarPods, Power Adapter)', 'APPLE iPhone 12 (Green, 128 GB)', 'APPLE iPhone 12 Pro (Pacific Blue, 256 GB)', 'APPLE iPhone 12 Mini (Black, 128 GB)', 'APPLE iPhone 11 Pro (Midnight Green, 64 GB)'], 'rule_mt6r': ['4.6', '4.5', '4.6', '4.5', '4.6'], 'rule_mhyc': ['4.6', '4.5', '4.6', '4.5', '4.6'], 'rule_i9zk': ['4.6', '4.6', '4.6', '4.5', '4.6', '4.5', '4.5', '4.5', '4.5', '4.5', '4.6', '4.6', '4.6', '4.6', '4.6', '4.6', '4.6', '4.6', '4.6', '4.6', '4.6', '4.6', '4.5', '4.6'], 'rule_2vb5': ['4.6', '4.6', '4.6', '4.5', '4.6', '4.5', '4.5', '4.5', '4.5', '4.5', '4.6', '4.6', '4.6', '4.6', '4.6', '4.6', '4.6', '4.6', '4.6', '4.6', '4.6', '4.6', '4.5', '4.6'], 'rule_vcws': ['4.6', '4.6', '4.6', '4.5', '4.6', '4.5', '4.5', '4.5', '4.5', '4.5', '4.6', '4.6', '4.6', '4.6', '4.6', '4.6', '4.6', '4.6', '4.6', '4.6', '4.6', '4.6', '4.5', '4.6'], 'rule_f3ao': ['4.6', '4.6', '4.6', '4.5', '4.6', '4.5', '4.5', '4.5', '4.5', '4.5', '4.6', '4.6', '4.6', '4.6', '4.6', '4.6', '4.6', '4.6', '4.6', '4.6', '4.6', '4.6', '4.5', '4.6'], 'rule_dcak': ['4.6', '4.6', '4.6', '4.5', '4.6', '4.5', '4.5', '4.5', '4.5', '4.5', '4.6', '4.6', '4.6', '4.6', '4.6', '4.6', '4.6', '4.6', '4.6', '4.6', '4.6', '4.6', '4.5', '4.6'], 'rule_mwvr': ['4.6', '4.6', '4.6', '4.5', '4.6', '4.5', '4.5', '4.5', '4.5', '4.5', '4.6', '4.6', '4.6', '4.6', '4.6', '4.6', '4.6', '4.6', '4.6', '4.6', '4.6', '4.6', '4.5', '4.6'], 'rule_biom': ['4.6', '4.6', '4.6', '4.5', '4.6', '4.5', '4.5', '4.5', '4.5', '4.5', '4.6', '4.6', '4.6', '4.6', '4.6', '4.6', '4.6', '4.6', '4.6', '4.6', '4.6', '4.6', '4.5', '4.6'], 'rule_mdrf': ['4.6', '4.6', '4.6', '4.5', '4.6', '4.5', '4.5', '4.5', '4.5', '4.5', '4.6', '4.6', '4.6', '4.6', '4.6', '4.6', '4.6', '4.6', '4.6', '4.6', '4.6', '4.6', '4.5', '4.6'], 'rule_gl1k': ['4.6', '4.6', '4.6', '4.5', '4.6', '4.5', '4.5', '4.5', '4.5', '4.5', '4.6', '4.6', '4.6', '4.6', '4.6', '4.6', '4.6', '4.6', '4.6', '4.6', '4.6', '4.6', '4.5', '4.6'], 'rule_ok6s': ['4.6', '4.6', '4.6', '4.5', '4.6', '4.5', '4.5', '4.5', '4.5', '4.5', '4.6', '4.6', '4.6', '4.6', '4.6', '4.6', '4.6', '4.6', '4.6', '4.6', '4.6', '4.6', '4.5', '4.6'], 'rule_vhul': ['4.6', '4.6', '4.6', '4.5', '4.6', '4.5', '4.5', '4.5', '4.5', '4.5', '4.6', '4.6', '4.6', '4.6', '4.6', '4.6', '4.6', '4.6', '4.6', '4.6', '4.6', '4.6', '4.5', '4.6'], 'rule_fxd9': ['4.6', '4.6', '4.6', '4.5', '4.6', '4.5', '4.5', '4.5', '4.5', '4.5', '4.6', '4.6', '4.6', '4.6', '4.6', '4.6', '4.6', '4.6', '4.6', '4.6', '4.6', '4.6', '4.5', '4.6'], 'rule_dh57': ['4.6', '4.6', '4.6', '4.5', '4.6', '4.5', '4.5', '4.5', '4.5', '4.5', '4.6', '4.6', '4.6', '4.6', '4.6', '4.6', '4.6', '4.6', '4.6', '4.6', '4.6', '4.6', '4.5', '4.6'], 'rule_e4q0': ['4.6', '4.6', '4.6', '4.5', '4.6', '4.5', '4.5', '4.5', '4.5', '4.5', '4.6', '4.6', '4.6', '4.6', '4.6', '4.6', '4.6', '4.6', '4.6', '4.6', '4.6', '4.6', '4.5', '4.6'], 'rule_umy0': ['4.6', '4.6', '4.6', '4.5', '4.6', '4.5', '4.5', '4.5', '4.5', '4.5', '4.6', '4.6', '4.6', '4.6', '4.6', '4.6', '4.6', '4.6', '4.6', '4.6', '4.6', '4.6', '4.5', '4.6']}\n"
     ]
    }
   ],
   "source": [
    "Flippkart_Data = Scraper.get_result_similar(Flipkart_URL,grouped=True)\n",
    "print(Flippkart_Data)"
   ]
  },
  {
   "cell_type": "code",
   "execution_count": 6,
   "id": "85e830ee",
   "metadata": {},
   "outputs": [
    {
     "name": "stdout",
     "output_type": "stream",
     "text": [
      "['rule_1b49', 'rule_2qll', 'rule_7rrq', 'rule_9wmu', 'rule_mj56', 'rule_qsyi', 'rule_mt6r', 'rule_mhyc', 'rule_i9zk', 'rule_2vb5', 'rule_vcws', 'rule_f3ao', 'rule_dcak', 'rule_mwvr', 'rule_biom', 'rule_mdrf', 'rule_gl1k', 'rule_ok6s', 'rule_vhul', 'rule_fxd9', 'rule_dh57', 'rule_e4q0', 'rule_umy0']\n"
     ]
    }
   ],
   "source": [
    "Keys = list(Flippkart_Data.keys())\n",
    "print(Keys)"
   ]
  },
  {
   "cell_type": "code",
   "execution_count": 7,
   "id": "93d52c8d",
   "metadata": {},
   "outputs": [],
   "source": [
    "Scraper.set_rule_aliases({str(Keys[0]):'Image_Url',str(Keys[1]):\"Price\", str(Keys[4]):\"Mobile_Name\",str(Keys[-1]):\"Ratings\"})\n",
    "Scraper.save(\"Flipkart.json\")"
   ]
  },
  {
   "cell_type": "code",
   "execution_count": 8,
   "id": "23fee882",
   "metadata": {},
   "outputs": [],
   "source": [
    "Flipkart_Samsung_Phn_Scraper = AutoScraper()\n",
    "Flipkart_Samsung_Phn_Scraper.load(\"Flipkart.json\")"
   ]
  },
  {
   "cell_type": "code",
   "execution_count": 9,
   "id": "43a50baf",
   "metadata": {},
   "outputs": [],
   "source": [
    "Search = \"Samsung Phones\"\n",
    "Url = \"https://www.flipkart.com/search?q=samsung+mobiles&sid=tyy%2C4io&as=on&as-show=on&otracker=AS_QueryStore_OrganicAutoSuggest_1_6_na_na_na&otracker1=AS_QueryStore_OrganicAutoSuggest_1_6_na_na_na&as-pos=1&as-type=RECENT&suggestionId=samsung+mobiles%7CMobiles&requestId=b091fa57-6895-4abd-b87a-2663d02716bc&as-searchtext=samsun\".format(Search)\n",
    "Samsung_Data = Flipkart_Samsung_Phn_Scraper.get_result_similar(Url,group_by_alias=True)\n",
    "Search_Data = tuple(zip(Samsung_Data['Image_Url'],Samsung_Data[\"Price\"],Samsung_Data[\"Mobile_Name\"],Samsung_Data[\"Ratings\"]))"
   ]
  },
  {
   "cell_type": "code",
   "execution_count": 10,
   "id": "69ab113a",
   "metadata": {},
   "outputs": [],
   "source": [
    "import pandas as pd\n",
    "Samsung_Data = pd.DataFrame(columns=['Query','Image_Url',\"Price\",\"Mobile_Name\",\"Ratings\"])\n",
    "for i in range(len(Search_Data)):\n",
    "    Samsung_Data.loc[len(Samsung_Data)] = [Search,Search_Data[i][0],Search_Data[i][1],Search_Data[i][2],Search_Data[i][3]]"
   ]
  },
  {
   "cell_type": "code",
   "execution_count": 11,
   "id": "64ecdc1b",
   "metadata": {},
   "outputs": [
    {
     "data": {
      "text/plain": [
       "(24, 5)"
      ]
     },
     "execution_count": 11,
     "metadata": {},
     "output_type": "execute_result"
    }
   ],
   "source": [
    "Samsung_Data.shape"
   ]
  },
  {
   "cell_type": "code",
   "execution_count": 12,
   "id": "2a13d6a1",
   "metadata": {},
   "outputs": [
    {
     "data": {
      "text/html": [
       "<div>\n",
       "<style scoped>\n",
       "    .dataframe tbody tr th:only-of-type {\n",
       "        vertical-align: middle;\n",
       "    }\n",
       "\n",
       "    .dataframe tbody tr th {\n",
       "        vertical-align: top;\n",
       "    }\n",
       "\n",
       "    .dataframe thead th {\n",
       "        text-align: right;\n",
       "    }\n",
       "</style>\n",
       "<table border=\"1\" class=\"dataframe\">\n",
       "  <thead>\n",
       "    <tr style=\"text-align: right;\">\n",
       "      <th></th>\n",
       "      <th>Query</th>\n",
       "      <th>Image_Url</th>\n",
       "      <th>Price</th>\n",
       "      <th>Mobile_Name</th>\n",
       "      <th>Ratings</th>\n",
       "    </tr>\n",
       "  </thead>\n",
       "  <tbody>\n",
       "    <tr>\n",
       "      <th>0</th>\n",
       "      <td>Samsung Phones</td>\n",
       "      <td>https://rukminim1.flixcart.com/image/312/312/k...</td>\n",
       "      <td>₹14,499</td>\n",
       "      <td>SAMSUNG Galaxy F41 (Fusion Blue, 128 GB)</td>\n",
       "      <td>4.3</td>\n",
       "    </tr>\n",
       "    <tr>\n",
       "      <th>1</th>\n",
       "      <td>Samsung Phones</td>\n",
       "      <td>https://rukminim1.flixcart.com/image/312/312/k...</td>\n",
       "      <td>₹9,999</td>\n",
       "      <td>SAMSUNG Galaxy F12 (Sky Blue, 64 GB)</td>\n",
       "      <td>4.2</td>\n",
       "    </tr>\n",
       "    <tr>\n",
       "      <th>2</th>\n",
       "      <td>Samsung Phones</td>\n",
       "      <td>https://rukminim1.flixcart.com/image/312/312/k...</td>\n",
       "      <td>₹1,100</td>\n",
       "      <td>SAMSUNG Guru 1200</td>\n",
       "      <td>4.3</td>\n",
       "    </tr>\n",
       "    <tr>\n",
       "      <th>3</th>\n",
       "      <td>Samsung Phones</td>\n",
       "      <td>https://rukminim1.flixcart.com/image/312/312/k...</td>\n",
       "      <td>₹16,375</td>\n",
       "      <td>SAMSUNG M31 (Ocean Blue, 128 GB)</td>\n",
       "      <td>4.3</td>\n",
       "    </tr>\n",
       "    <tr>\n",
       "      <th>4</th>\n",
       "      <td>Samsung Phones</td>\n",
       "      <td>https://rukminim1.flixcart.com/image/312/312/k...</td>\n",
       "      <td>₹10,999</td>\n",
       "      <td>SAMSUNG Galaxy F12 (Sky Blue, 128 GB)</td>\n",
       "      <td>4.2</td>\n",
       "    </tr>\n",
       "    <tr>\n",
       "      <th>5</th>\n",
       "      <td>Samsung Phones</td>\n",
       "      <td>https://rukminim1.flixcart.com/image/312/312/k...</td>\n",
       "      <td>₹1,310</td>\n",
       "      <td>SAMSUNG Guru 1200</td>\n",
       "      <td>4.3</td>\n",
       "    </tr>\n",
       "    <tr>\n",
       "      <th>6</th>\n",
       "      <td>Samsung Phones</td>\n",
       "      <td>https://rukminim1.flixcart.com/image/312/312/k...</td>\n",
       "      <td>₹10,999</td>\n",
       "      <td>SAMSUNG Galaxy F12 (Sea Green, 128 GB)</td>\n",
       "      <td>4.2</td>\n",
       "    </tr>\n",
       "    <tr>\n",
       "      <th>7</th>\n",
       "      <td>Samsung Phones</td>\n",
       "      <td>https://rukminim1.flixcart.com/image/312/312/j...</td>\n",
       "      <td>₹1,662</td>\n",
       "      <td>SAMSUNG Guru FM Plus</td>\n",
       "      <td>4.2</td>\n",
       "    </tr>\n",
       "    <tr>\n",
       "      <th>8</th>\n",
       "      <td>Samsung Phones</td>\n",
       "      <td>https://rukminim1.flixcart.com/image/312/312/k...</td>\n",
       "      <td>₹1,384</td>\n",
       "      <td>SAMSUNG Guru 1200</td>\n",
       "      <td>4.3</td>\n",
       "    </tr>\n",
       "    <tr>\n",
       "      <th>9</th>\n",
       "      <td>Samsung Phones</td>\n",
       "      <td>https://rukminim1.flixcart.com/image/312/312/k...</td>\n",
       "      <td>₹11,110</td>\n",
       "      <td>SAMSUNG Galaxy M12 (Black, 64 GB)</td>\n",
       "      <td>4.3</td>\n",
       "    </tr>\n",
       "    <tr>\n",
       "      <th>10</th>\n",
       "      <td>Samsung Phones</td>\n",
       "      <td>https://rukminim1.flixcart.com/image/312/312/m...</td>\n",
       "      <td>₹1,599</td>\n",
       "      <td>SAMSUNG Guru GT</td>\n",
       "      <td>4.2</td>\n",
       "    </tr>\n",
       "    <tr>\n",
       "      <th>11</th>\n",
       "      <td>Samsung Phones</td>\n",
       "      <td>https://rukminim1.flixcart.com/image/312/312/k...</td>\n",
       "      <td>₹25,999</td>\n",
       "      <td>SAMSUNG Galaxy F62 (Laser Grey, 128 GB)</td>\n",
       "      <td>4.3</td>\n",
       "    </tr>\n",
       "    <tr>\n",
       "      <th>12</th>\n",
       "      <td>Samsung Phones</td>\n",
       "      <td>https://rukminim1.flixcart.com/image/312/312/k...</td>\n",
       "      <td>₹9,999</td>\n",
       "      <td>SAMSUNG Galaxy F02s (Diamond Blue, 64 GB)</td>\n",
       "      <td>4.2</td>\n",
       "    </tr>\n",
       "    <tr>\n",
       "      <th>13</th>\n",
       "      <td>Samsung Phones</td>\n",
       "      <td>https://rukminim1.flixcart.com/image/312/312/k...</td>\n",
       "      <td>₹9,999</td>\n",
       "      <td>SAMSUNG Galaxy F12 (Sea Green, 64 GB)</td>\n",
       "      <td>4.2</td>\n",
       "    </tr>\n",
       "    <tr>\n",
       "      <th>14</th>\n",
       "      <td>Samsung Phones</td>\n",
       "      <td>https://rukminim1.flixcart.com/image/312/312/j...</td>\n",
       "      <td>₹2,025</td>\n",
       "      <td>SAMSUNG Metro 313 Dual Sim</td>\n",
       "      <td>4.3</td>\n",
       "    </tr>\n",
       "    <tr>\n",
       "      <th>15</th>\n",
       "      <td>Samsung Phones</td>\n",
       "      <td>https://rukminim1.flixcart.com/image/312/312/m...</td>\n",
       "      <td>₹1,648</td>\n",
       "      <td>SAMSUNG Guru FM Plus SM-B110E/D</td>\n",
       "      <td>4.3</td>\n",
       "    </tr>\n",
       "    <tr>\n",
       "      <th>16</th>\n",
       "      <td>Samsung Phones</td>\n",
       "      <td>https://rukminim1.flixcart.com/image/312/312/k...</td>\n",
       "      <td>₹12,999</td>\n",
       "      <td>SAMSUNG Galaxy A21s (Blue, 64 GB)</td>\n",
       "      <td>4.2</td>\n",
       "    </tr>\n",
       "    <tr>\n",
       "      <th>17</th>\n",
       "      <td>Samsung Phones</td>\n",
       "      <td>https://rukminim1.flixcart.com/image/312/312/m...</td>\n",
       "      <td>₹1,650</td>\n",
       "      <td>SAMSUNG Guru FM Plus SM-B110E/D</td>\n",
       "      <td>4.3</td>\n",
       "    </tr>\n",
       "    <tr>\n",
       "      <th>18</th>\n",
       "      <td>Samsung Phones</td>\n",
       "      <td>https://rukminim1.flixcart.com/image/312/312/m...</td>\n",
       "      <td>₹2,297</td>\n",
       "      <td>SAMSUNG Metro 313 Dual Sim</td>\n",
       "      <td>4.3</td>\n",
       "    </tr>\n",
       "    <tr>\n",
       "      <th>19</th>\n",
       "      <td>Samsung Phones</td>\n",
       "      <td>https://rukminim1.flixcart.com/image/312/312/k...</td>\n",
       "      <td>₹22,647</td>\n",
       "      <td>SAMSUNG GALAXY M51 (Celestial Black, 128 GB)</td>\n",
       "      <td>4.3</td>\n",
       "    </tr>\n",
       "    <tr>\n",
       "      <th>20</th>\n",
       "      <td>Samsung Phones</td>\n",
       "      <td>https://rukminim1.flixcart.com/image/312/312/k...</td>\n",
       "      <td>₹25,999</td>\n",
       "      <td>SAMSUNG Galaxy F62 (Laser Green, 128 GB)</td>\n",
       "      <td>4.3</td>\n",
       "    </tr>\n",
       "    <tr>\n",
       "      <th>21</th>\n",
       "      <td>Samsung Phones</td>\n",
       "      <td>https://rukminim1.flixcart.com/image/312/312/k...</td>\n",
       "      <td>₹8,999</td>\n",
       "      <td>SAMSUNG Galaxy F02s (Diamond Blue, 32 GB)</td>\n",
       "      <td>4.2</td>\n",
       "    </tr>\n",
       "    <tr>\n",
       "      <th>22</th>\n",
       "      <td>Samsung Phones</td>\n",
       "      <td>https://rukminim1.flixcart.com/image/312/312/k...</td>\n",
       "      <td>₹10,188</td>\n",
       "      <td>SAMSUNG Galaxy M11 (Violet, 64 GB)</td>\n",
       "      <td>4.3</td>\n",
       "    </tr>\n",
       "    <tr>\n",
       "      <th>23</th>\n",
       "      <td>Samsung Phones</td>\n",
       "      <td>https://rukminim1.flixcart.com/image/312/312/k...</td>\n",
       "      <td>₹16,325</td>\n",
       "      <td>SAMSUNG Galaxy M31 (Iceberg blue, 128 GB)</td>\n",
       "      <td>4.3</td>\n",
       "    </tr>\n",
       "  </tbody>\n",
       "</table>\n",
       "</div>"
      ],
      "text/plain": [
       "             Query                                          Image_Url  \\\n",
       "0   Samsung Phones  https://rukminim1.flixcart.com/image/312/312/k...   \n",
       "1   Samsung Phones  https://rukminim1.flixcart.com/image/312/312/k...   \n",
       "2   Samsung Phones  https://rukminim1.flixcart.com/image/312/312/k...   \n",
       "3   Samsung Phones  https://rukminim1.flixcart.com/image/312/312/k...   \n",
       "4   Samsung Phones  https://rukminim1.flixcart.com/image/312/312/k...   \n",
       "5   Samsung Phones  https://rukminim1.flixcart.com/image/312/312/k...   \n",
       "6   Samsung Phones  https://rukminim1.flixcart.com/image/312/312/k...   \n",
       "7   Samsung Phones  https://rukminim1.flixcart.com/image/312/312/j...   \n",
       "8   Samsung Phones  https://rukminim1.flixcart.com/image/312/312/k...   \n",
       "9   Samsung Phones  https://rukminim1.flixcart.com/image/312/312/k...   \n",
       "10  Samsung Phones  https://rukminim1.flixcart.com/image/312/312/m...   \n",
       "11  Samsung Phones  https://rukminim1.flixcart.com/image/312/312/k...   \n",
       "12  Samsung Phones  https://rukminim1.flixcart.com/image/312/312/k...   \n",
       "13  Samsung Phones  https://rukminim1.flixcart.com/image/312/312/k...   \n",
       "14  Samsung Phones  https://rukminim1.flixcart.com/image/312/312/j...   \n",
       "15  Samsung Phones  https://rukminim1.flixcart.com/image/312/312/m...   \n",
       "16  Samsung Phones  https://rukminim1.flixcart.com/image/312/312/k...   \n",
       "17  Samsung Phones  https://rukminim1.flixcart.com/image/312/312/m...   \n",
       "18  Samsung Phones  https://rukminim1.flixcart.com/image/312/312/m...   \n",
       "19  Samsung Phones  https://rukminim1.flixcart.com/image/312/312/k...   \n",
       "20  Samsung Phones  https://rukminim1.flixcart.com/image/312/312/k...   \n",
       "21  Samsung Phones  https://rukminim1.flixcart.com/image/312/312/k...   \n",
       "22  Samsung Phones  https://rukminim1.flixcart.com/image/312/312/k...   \n",
       "23  Samsung Phones  https://rukminim1.flixcart.com/image/312/312/k...   \n",
       "\n",
       "      Price                                   Mobile_Name Ratings  \n",
       "0   ₹14,499      SAMSUNG Galaxy F41 (Fusion Blue, 128 GB)     4.3  \n",
       "1    ₹9,999          SAMSUNG Galaxy F12 (Sky Blue, 64 GB)     4.2  \n",
       "2    ₹1,100                             SAMSUNG Guru 1200     4.3  \n",
       "3   ₹16,375              SAMSUNG M31 (Ocean Blue, 128 GB)     4.3  \n",
       "4   ₹10,999         SAMSUNG Galaxy F12 (Sky Blue, 128 GB)     4.2  \n",
       "5    ₹1,310                             SAMSUNG Guru 1200     4.3  \n",
       "6   ₹10,999        SAMSUNG Galaxy F12 (Sea Green, 128 GB)     4.2  \n",
       "7    ₹1,662                          SAMSUNG Guru FM Plus     4.2  \n",
       "8    ₹1,384                             SAMSUNG Guru 1200     4.3  \n",
       "9   ₹11,110             SAMSUNG Galaxy M12 (Black, 64 GB)     4.3  \n",
       "10   ₹1,599                               SAMSUNG Guru GT     4.2  \n",
       "11  ₹25,999       SAMSUNG Galaxy F62 (Laser Grey, 128 GB)     4.3  \n",
       "12   ₹9,999     SAMSUNG Galaxy F02s (Diamond Blue, 64 GB)     4.2  \n",
       "13   ₹9,999         SAMSUNG Galaxy F12 (Sea Green, 64 GB)     4.2  \n",
       "14   ₹2,025                    SAMSUNG Metro 313 Dual Sim     4.3  \n",
       "15   ₹1,648               SAMSUNG Guru FM Plus SM-B110E/D     4.3  \n",
       "16  ₹12,999             SAMSUNG Galaxy A21s (Blue, 64 GB)     4.2  \n",
       "17   ₹1,650               SAMSUNG Guru FM Plus SM-B110E/D     4.3  \n",
       "18   ₹2,297                    SAMSUNG Metro 313 Dual Sim     4.3  \n",
       "19  ₹22,647  SAMSUNG GALAXY M51 (Celestial Black, 128 GB)     4.3  \n",
       "20  ₹25,999      SAMSUNG Galaxy F62 (Laser Green, 128 GB)     4.3  \n",
       "21   ₹8,999     SAMSUNG Galaxy F02s (Diamond Blue, 32 GB)     4.2  \n",
       "22  ₹10,188            SAMSUNG Galaxy M11 (Violet, 64 GB)     4.3  \n",
       "23  ₹16,325     SAMSUNG Galaxy M31 (Iceberg blue, 128 GB)     4.3  "
      ]
     },
     "execution_count": 12,
     "metadata": {},
     "output_type": "execute_result"
    }
   ],
   "source": [
    "Samsung_Data"
   ]
  }
 ],
 "metadata": {
  "kernelspec": {
   "display_name": "Python 3",
   "language": "python",
   "name": "python3"
  },
  "language_info": {
   "codemirror_mode": {
    "name": "ipython",
    "version": 3
   },
   "file_extension": ".py",
   "mimetype": "text/x-python",
   "name": "python",
   "nbconvert_exporter": "python",
   "pygments_lexer": "ipython3",
   "version": "3.8.8"
  }
 },
 "nbformat": 4,
 "nbformat_minor": 5
}
